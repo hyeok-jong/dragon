{
 "cells": [
  {
   "cell_type": "code",
   "execution_count": 1,
   "id": "adaa8f61-15a9-44bc-b3af-7ad53d69d795",
   "metadata": {},
   "outputs": [
    {
     "name": "stderr",
     "output_type": "stream",
     "text": [
      "  0% 0/1 [00:01<?, ?it/s]\n"
     ]
    }
   ],
   "source": [
    "import torch\n",
    "import numpy as np\n",
    "\n",
    "from tqdm import tqdm\n",
    "from data_loader import set_loader\n",
    "from models import set_model\n",
    "\n",
    "\n",
    "\n",
    "def metric_function(output, target, num_classes = 13):\n",
    "    \n",
    "    preds = torch.argmax(output, dim=1)\n",
    "    intersection = torch.zeros(num_classes).float().to(output.device)\n",
    "    union = torch.zeros(num_classes).float().to(output.device)\n",
    "    \n",
    "    for cls in range(num_classes):\n",
    "        intersection[cls] = torch.sum((preds == cls) & (target == cls))\n",
    "        union[cls] = torch.sum((preds == cls) | (target == cls))\n",
    "    \n",
    "    iou = intersection / (union + 1e-6)\n",
    "    miou = torch.mean(iou)\n",
    "    \n",
    "    return miou.item()\n",
    "\n",
    "\n",
    "def train(loader, optimizer, loss_function, model, metric_function):\n",
    "    loss_value = 0\n",
    "    metric_value = 0\n",
    "    total_batch = 0\n",
    "    \n",
    "    model.train()\n",
    "    for data in loader:\n",
    "        image, gt = data\n",
    "        batch_size = image[0]\n",
    "        output = model(image.cuda())\n",
    "        loss = loss_function(output, gt.cuda().squeeze(dim = 1))\n",
    "        metric = metric_function(output, gt.cuda())\n",
    "        \n",
    "        optimizer.zero_grad()\n",
    "        loss.backward()\n",
    "        optimizer.step()\n",
    "        \n",
    "        loss_value += loss.detach().cpu().item()*batch_size\n",
    "        metric_value += metric*batch_size\n",
    "        \n",
    "        total_batch += batch_size\n",
    "        \n",
    "        \n",
    "    return loss_value / total_batch, metric_value / total_batch\n",
    "\n",
    "\n",
    "@torch.no_grad()\n",
    "def evaluate(loader, loss_function, model, metric_function):\n",
    "    loss_value = 0\n",
    "    metric_value = 0\n",
    "    total_batch = 0\n",
    "    model.eval()\n",
    "    for data in loader:\n",
    "        image, gt = data\n",
    "        batch_size = image[0]\n",
    "        output = model(image.cuda())\n",
    "        loss = loss_function(output, gt.cuda().squeeze(dim = 1))\n",
    "        metric = metric_function(output, gt.cuda())\n",
    "        \n",
    "        loss_value += loss.detach().cpu().item()*batch_size\n",
    "        metric_value += metric*batch_size\n",
    "        \n",
    "        total_batch += batch_size\n",
    "        \n",
    "    return loss_value / total_batch, metric_value / total_batch\n",
    "\n",
    "    \n",
    "batch_size = 2\n",
    "epochs = 30\n",
    "train_loader, val_loader = set_loader(batch_size)\n",
    "\n",
    "\n",
    "model = set_model().cuda()\n",
    "loss_function = torch.nn.CrossEntropyLoss().cuda()\n",
    "optimizer = torch.optim.SGD(model.parameters(), lr = 1e-3)\n",
    "\n",
    "result_dict = {\n",
    "    'train metric' : [],\n",
    "    'train loss' : [],\n",
    "    'val metric' : [],\n",
    "    'val loss' : []\n",
    "}\n",
    "\n",
    "for epoch in tqdm(range(1)):\n",
    "    train_loss, train_metric = train(train_loader, optimizer, loss_function, model, metric_function)\n",
    "    val_loss, val_metric = evaluate(train_loader, loss_function, model, metric_function)\n",
    "    \n",
    "    result_dict['train metric'].append(train_metric)\n",
    "    result_dict['val metric'].append(val_metric)\n",
    "    result_dict['train loss'].append(train_loss)\n",
    "    result_dict['val loss'].append(val_loss)\n",
    "\n",
    "    break\n"
   ]
  },
  {
   "cell_type": "code",
   "execution_count": 4,
   "id": "4879406e-5c82-48fd-b12f-60263af0a673",
   "metadata": {},
   "outputs": [],
   "source": [
    "loss_value = 0\n",
    "metric_value = 0\n",
    "total_batch = 0\n",
    "\n",
    "model.train()\n",
    "for data in train_loader:\n",
    "    image, gt = data\n",
    "    batch_size = image.shape[0]\n",
    "    output = model(image.cuda())\n",
    "    loss = loss_function(output, gt.cuda().squeeze(dim = 1))\n",
    "    metric = metric_function(output, gt.cuda())\n",
    "    \n",
    "    optimizer.zero_grad()\n",
    "    loss.backward()\n",
    "    optimizer.step()\n",
    "    \n",
    "    loss_value += loss.detach().cpu().item()*batch_size\n",
    "    metric_value += metric*batch_size\n",
    "    \n",
    "    total_batch += batch_size"
   ]
  },
  {
   "cell_type": "code",
   "execution_count": 6,
   "id": "f4ebd6b1-24f5-4c13-ad10-fcd991129e7e",
   "metadata": {},
   "outputs": [
    {
     "data": {
      "text/plain": [
       "tensor(2.6899, device='cuda:0', grad_fn=<NllLoss2DBackward0>)"
      ]
     },
     "execution_count": 6,
     "metadata": {},
     "output_type": "execute_result"
    }
   ],
   "source": [
    "loss"
   ]
  }
 ],
 "metadata": {
  "kernelspec": {
   "display_name": "Python 3 (ipykernel)",
   "language": "python",
   "name": "python3"
  },
  "language_info": {
   "codemirror_mode": {
    "name": "ipython",
    "version": 3
   },
   "file_extension": ".py",
   "mimetype": "text/x-python",
   "name": "python",
   "nbconvert_exporter": "python",
   "pygments_lexer": "ipython3",
   "version": "3.8.13"
  }
 },
 "nbformat": 4,
 "nbformat_minor": 5
}
